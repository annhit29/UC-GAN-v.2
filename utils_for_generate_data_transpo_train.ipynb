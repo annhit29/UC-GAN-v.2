{
 "cells": [
  {
   "attachments": {},
   "cell_type": "markdown",
   "metadata": {},
   "source": [
    "This ipynb (`utils_for_generate_data_transpo_train.ipynb`) serves to generate txt and bmp files of plaintexts and three different type of transposition ciphers' ciphertexts.\n",
    "\n",
    "(cf `utils_for_generate_data_transpo_train.ipynb` then `solver_transpo.py`)"
   ]
  },
  {
   "cell_type": "code",
   "execution_count": 2,
   "metadata": {},
   "outputs": [],
   "source": [
    "import os\n",
    "import re\n",
    "\n",
    "\n",
    "'''\n",
    "remove spaces and special characters while keeping only the letters from 'a' to 'z', only keep the first `cleaned_text`'s 100 characters:\n",
    "'''\n",
    "def keep_1st_100_letters_only(input_string):\n",
    "    # Remove spaces and special characters\n",
    "    cleaned_string = re.sub(r'[^a-zA-Z]', '', input_string)\n",
    "    # Convert A-Z to lowercase\n",
    "    cleaned_string = cleaned_string.lower()\n",
    "    cleaned_string_100 = cleaned_string[:100] #Keep only the first `cleaned_text`'s 100 characters\n",
    "    return cleaned_string_100\n",
    "\n",
    "'''\n",
    "generate a `num_files` of files, and put each input_text's cleaned_text in each file\n",
    "'''\n",
    "def generate_files():\n",
    "    #flemme de passer ces variables par arguments:\n",
    "    num_files = 24#int(input(\"Enter the number of files to generate: \"))\n",
    "    file_offset_nb = 3200\n",
    "\n",
    "    \n",
    "    data_dict = {}\n",
    "    for i in range(file_offset_nb, file_offset_nb + num_files):\n",
    "        file_name = f'{i}.txt'\n",
    "        input_text = input(f\"Enter content for {file_name}: \")\n",
    "        cleaned_text = keep_1st_100_letters_only(input_text)\n",
    "        # print(cleaned_text)\n",
    "        data_dict[file_name] = cleaned_text\n",
    "\n",
    "    return data_dict\n",
    "\n",
    "\n",
    "from txt2bmp import *\n",
    "import subprocess\n",
    "'''\n",
    "Function to run the txt2bmp.py script with specified arguments\n",
    "'''\n",
    "def run_txt2bmp(arguments):\n",
    "    try:\n",
    "        subprocess.run([\"python\", \"txt2bmp.py\"] + arguments, check=True)\n",
    "    except subprocess.CalledProcessError as e:\n",
    "        print(f\"Error: {e}\")\n",
    "\n",
    "\n",
    "'''\n",
    "function that takes user input for the number of txt files to generate and their respective content\n",
    "'''\n",
    "def write_files_to_folder(folder_path, file_data_dict):\n",
    "    # Check if the folder exists, if not, create it\n",
    "    if not os.path.exists(folder_path):\n",
    "        os.makedirs(folder_path)\n",
    "\n",
    "    # Loop through the dictionary containing file names and data\n",
    "    for file_name, file_data in file_data_dict.items():\n",
    "        file_path = os.path.join(folder_path, file_name)\n",
    "        \n",
    "        # Write data to txt file\n",
    "        with open(file_path, 'w') as file:\n",
    "            file.write(file_data)\n",
    "        print(f\"File '{file_name}' created at '{file_path}'.\")\n",
    "\n",
    "\n",
    "\n",
    "'''\n",
    "Convert txt files from a folder to the corresponding bmp files into another folder\n",
    "'''\n",
    "def write_bmpfiles_to_folder(input_folder, output_folder):\n",
    "    # Ensure the output folder exists, if not, create it\n",
    "    if not os.path.exists(output_folder):\n",
    "        os.makedirs(output_folder)\n",
    "\n",
    "    # Loop through each file in the input folder\n",
    "    for file_name in os.listdir(input_folder):\n",
    "        if file_name.endswith(\".txt\"):  # Process only text files\n",
    "            file_path = os.path.join(input_folder, file_name)\n",
    "            \n",
    "            # Read content from the text file\n",
    "            with open(file_path, 'r') as file:\n",
    "                content = file.read().strip()\n",
    "\n",
    "            # If the file content is not empty, create a corresponding BMP file using txt2bmp.py\n",
    "            if content:\n",
    "                bmp_output_path = os.path.join(output_folder, f\"{file_name.split('.')[0]}.bmp\")\n",
    "                run_txt2bmp([\"-i\", content, \"-b\", bmp_output_path])\n",
    "                print(f\"BMP File '{file_name.split('.')[0]}.bmp' created at '{bmp_output_path}'.\")\n",
    "\n",
    "\n"
   ]
  },
  {
   "attachments": {},
   "cell_type": "markdown",
   "metadata": {},
   "source": [
    "in 0.plain:"
   ]
  },
  {
   "cell_type": "code",
   "execution_count": 3,
   "metadata": {},
   "outputs": [
    {
     "name": "stdout",
     "output_type": "stream",
     "text": [
      "Generated File Data:\n",
      "{'3200.txt': 'furthermoreasanencouragementtorevisionistthinkingitmanifestlyisfairtoadmitthatanyfraternityhasaconst', '3201.txt': 'theunitarianclergywereanexclusiveclubofcultivatedgentlemenasthetermwasthenunderstoodinthebackbayandp', '3202.txt': 'ezrastilesgannettanhonorablerepresentativeofthesanhedrinaddressedhimselffranklytotheissueininsisting', '3203.txt': 'evensogannettjudiciouslyarguedtheassociationcouldlegitimatelydecidethatparkershouldnotbeencouragedno', '3204.txt': 'wetodayarenotentitledtoexcoriatehonestmenwhobelievedparkertobedownrightperniciousandwhobarredtheirpu', '3205.txt': 'onecanevenarguethoughthisisadelicatematterthateveryjustificationexistedfortheirreturningthepubliclec', '3206.txt': 'finallyitdidseemclearasdaytotheseclergymenasgannettssonexplainedinthebiographyofhisfathertheyhadalwa', '3207.txt': 'theirdemandagainstthecalvinistorthodoxyforintellectuallibertyhadnevermeantthattheywouldfollowfreeinq', '3208.txt': 'grantallthisstillwhenmodernunitarianismandtheharvarddivinityschoolrecallwithhumorousaffectiontheinsu', '3209.txt': 'whenevernewenglandliberalismisremindedofthedramaticconfrontationofparkerandthefraternityonjanuarywhi', '3210.txt': 'thedifferencebetweenmrparkerandtheassociationisadifferencebetweennochristianityandchristianitydespit', '3211.txt': 'happilyforposteritythenthebostonassociationdidnotactuallycommandparkertoleavetheroomthoughitcametooc', '3212.txt': 'fortunatelythehonorofthedenominationcanattestthatcyrusbartoldefendedparkerssincerityasdidalsogannett', '3213.txt': 'inthehallafteradjournmentdrfrothinghamtookhimwarmlybythehandandrequestedparkertovisithimwhereuponour', '3214.txt': 'allthisneartragedywhichtousbordersoncomedyenablesustotellthestoryoverandoveragainalwayswarmingoursel', '3215.txt': 'yetevenafterallthesestratagemstheconscienceofchristianliberalityisstillnotlaidtorestanymorethanisthe', '3216.txt': 'conscienceofharvarduniversityforhavingdonetheabjectpenanceforitsrejectionofralphwaldoemersonsthedivi', '3217.txt': 'inbothcasesthestubbornfactremainsliberalismgavebirthtotwobrilliantapostatesbothlegitimateoffspringof', '3218.txt': 'supposetheybothhadventuredintorealmswhichtheircolleaguesthoughtinfidelisthisthewaygentlemensettlefra', '3219.txt': 'isitafterallpossiblethatnomatterhowtheliberalstrumpettheirconfidenceinhumandignitytheyareexposedtoac', '3220.txt': 'emersonevadedtheproblembyshovingitasideorratherbyleavingitbehindhimhewalkedoutoftheunitariancommunio', '3221.txt': 'itcannotbesmoothedoverbynowcherishinghissarcasmsasdelightfulbitsofselfdeprecationorbysolemnlycalling', '3222.txt': 'thefactisincontestablethatliberalworldofunitarianbostonwasnarrowmindedintellectuallysterilesmugafrai', '3223.txt': 'thelogicalconsequencesofitsownmildventuresintoiconoclasmandquitepreparedtoresorttohystericalrepressi'}\n",
      "File '3200.txt' created at 'data_transpo_txt\\train\\0.plain\\3200.txt'.\n",
      "File '3201.txt' created at 'data_transpo_txt\\train\\0.plain\\3201.txt'.\n",
      "File '3202.txt' created at 'data_transpo_txt\\train\\0.plain\\3202.txt'.\n",
      "File '3203.txt' created at 'data_transpo_txt\\train\\0.plain\\3203.txt'.\n",
      "File '3204.txt' created at 'data_transpo_txt\\train\\0.plain\\3204.txt'.\n",
      "File '3205.txt' created at 'data_transpo_txt\\train\\0.plain\\3205.txt'.\n",
      "File '3206.txt' created at 'data_transpo_txt\\train\\0.plain\\3206.txt'.\n",
      "File '3207.txt' created at 'data_transpo_txt\\train\\0.plain\\3207.txt'.\n",
      "File '3208.txt' created at 'data_transpo_txt\\train\\0.plain\\3208.txt'.\n",
      "File '3209.txt' created at 'data_transpo_txt\\train\\0.plain\\3209.txt'.\n",
      "File '3210.txt' created at 'data_transpo_txt\\train\\0.plain\\3210.txt'.\n",
      "File '3211.txt' created at 'data_transpo_txt\\train\\0.plain\\3211.txt'.\n",
      "File '3212.txt' created at 'data_transpo_txt\\train\\0.plain\\3212.txt'.\n",
      "File '3213.txt' created at 'data_transpo_txt\\train\\0.plain\\3213.txt'.\n",
      "File '3214.txt' created at 'data_transpo_txt\\train\\0.plain\\3214.txt'.\n",
      "File '3215.txt' created at 'data_transpo_txt\\train\\0.plain\\3215.txt'.\n",
      "File '3216.txt' created at 'data_transpo_txt\\train\\0.plain\\3216.txt'.\n",
      "File '3217.txt' created at 'data_transpo_txt\\train\\0.plain\\3217.txt'.\n",
      "File '3218.txt' created at 'data_transpo_txt\\train\\0.plain\\3218.txt'.\n",
      "File '3219.txt' created at 'data_transpo_txt\\train\\0.plain\\3219.txt'.\n",
      "File '3220.txt' created at 'data_transpo_txt\\train\\0.plain\\3220.txt'.\n",
      "File '3221.txt' created at 'data_transpo_txt\\train\\0.plain\\3221.txt'.\n",
      "File '3222.txt' created at 'data_transpo_txt\\train\\0.plain\\3222.txt'.\n",
      "File '3223.txt' created at 'data_transpo_txt\\train\\0.plain\\3223.txt'.\n"
     ]
    }
   ],
   "source": [
    "# Generate files using user input\n",
    "folder = r'data_transpo_txt\\train\\0.plain'\n",
    "data_dict = generate_files()\n",
    "print(\"Generated File Data:\")\n",
    "print(data_dict)\n",
    "\n",
    "# Write plaintexts into files:\n",
    "write_files_to_folder(folder, data_dict)"
   ]
  },
  {
   "cell_type": "code",
   "execution_count": 4,
   "metadata": {},
   "outputs": [
    {
     "name": "stdout",
     "output_type": "stream",
     "text": [
      "BMP File '3200.bmp' created at 'data_transpo_bmp\\train\\0.plain\\3200.bmp'.\n",
      "BMP File '3201.bmp' created at 'data_transpo_bmp\\train\\0.plain\\3201.bmp'.\n",
      "BMP File '3202.bmp' created at 'data_transpo_bmp\\train\\0.plain\\3202.bmp'.\n",
      "BMP File '3203.bmp' created at 'data_transpo_bmp\\train\\0.plain\\3203.bmp'.\n",
      "BMP File '3204.bmp' created at 'data_transpo_bmp\\train\\0.plain\\3204.bmp'.\n",
      "BMP File '3205.bmp' created at 'data_transpo_bmp\\train\\0.plain\\3205.bmp'.\n",
      "BMP File '3206.bmp' created at 'data_transpo_bmp\\train\\0.plain\\3206.bmp'.\n",
      "BMP File '3207.bmp' created at 'data_transpo_bmp\\train\\0.plain\\3207.bmp'.\n",
      "BMP File '3208.bmp' created at 'data_transpo_bmp\\train\\0.plain\\3208.bmp'.\n",
      "BMP File '3209.bmp' created at 'data_transpo_bmp\\train\\0.plain\\3209.bmp'.\n",
      "BMP File '3210.bmp' created at 'data_transpo_bmp\\train\\0.plain\\3210.bmp'.\n",
      "BMP File '3211.bmp' created at 'data_transpo_bmp\\train\\0.plain\\3211.bmp'.\n",
      "BMP File '3212.bmp' created at 'data_transpo_bmp\\train\\0.plain\\3212.bmp'.\n",
      "BMP File '3213.bmp' created at 'data_transpo_bmp\\train\\0.plain\\3213.bmp'.\n",
      "BMP File '3214.bmp' created at 'data_transpo_bmp\\train\\0.plain\\3214.bmp'.\n",
      "BMP File '3215.bmp' created at 'data_transpo_bmp\\train\\0.plain\\3215.bmp'.\n",
      "BMP File '3216.bmp' created at 'data_transpo_bmp\\train\\0.plain\\3216.bmp'.\n",
      "BMP File '3217.bmp' created at 'data_transpo_bmp\\train\\0.plain\\3217.bmp'.\n",
      "BMP File '3218.bmp' created at 'data_transpo_bmp\\train\\0.plain\\3218.bmp'.\n",
      "BMP File '3219.bmp' created at 'data_transpo_bmp\\train\\0.plain\\3219.bmp'.\n",
      "BMP File '3220.bmp' created at 'data_transpo_bmp\\train\\0.plain\\3220.bmp'.\n",
      "BMP File '3221.bmp' created at 'data_transpo_bmp\\train\\0.plain\\3221.bmp'.\n",
      "BMP File '3222.bmp' created at 'data_transpo_bmp\\train\\0.plain\\3222.bmp'.\n",
      "BMP File '3223.bmp' created at 'data_transpo_bmp\\train\\0.plain\\3223.bmp'.\n"
     ]
    }
   ],
   "source": [
    "# Call the function to create and convert BMP files from plaintexts\n",
    "plaintext_folder = r'data_transpo_txt\\train\\0.plain'\n",
    "bmp_output_folder = r'data_transpo_bmp\\train\\0.plain'\n",
    "write_bmpfiles_to_folder(plaintext_folder , bmp_output_folder)"
   ]
  },
  {
   "attachments": {},
   "cell_type": "markdown",
   "metadata": {},
   "source": [
    "Plaintexts generation related work done."
   ]
  },
  {
   "attachments": {},
   "cell_type": "markdown",
   "metadata": {},
   "source": [
    "Now import necessary transposition ciphers' related stuffs in order to work on ciphertext generation using generated plaintexts: "
   ]
  },
  {
   "cell_type": "code",
   "execution_count": 5,
   "metadata": {},
   "outputs": [],
   "source": [
    "import torch\n",
    "import torch.nn.functional as F\n",
    "import numpy as np\n",
    "import copy\n",
    "import os\n",
    "\n",
    "#import transposition ciphers' modules:\n",
    "import lib.transpo_rail_fence as rf\n",
    "import lib.columnar as clnar\n",
    "import lib.transposition as transpo\n",
    "\n",
    "\n",
    "RAIL_FENCE_KEY = 4\n",
    "COLUMNAR_KEY = \"hackhack\" #in anycase will = \"hack\" coz cf columnar.py  #order “3 1 2 4”\n",
    "TRANSPO_KEY = 8"
   ]
  },
  {
   "cell_type": "code",
   "execution_count": 17,
   "metadata": {},
   "outputs": [],
   "source": [
    "'''\n",
    "a generic function (except for 3.transpo) to read each file from input_folder = 'data_transpo_txt\\train\\0.plain', encrypt each file content using encryption_function function, and save to output_folder = 'data_transpo_txt\\train\\1.railfence':\n",
    "'''\n",
    "def encrypt_files(input_folder, output_folder, encryption_function, key):\n",
    "    # Ensure the output folder exists, if not, create the output_folder:\n",
    "    if not os.path.exists(output_folder):\n",
    "        os.makedirs(output_folder)\n",
    "\n",
    "    # Loop through each file in the input folder\n",
    "    for file_name in os.listdir(input_folder):\n",
    "        file_path = os.path.join(input_folder, file_name)\n",
    "\n",
    "        # Read content from the file\n",
    "        with open(file_path, 'r') as file:\n",
    "            content = file.read()\n",
    "\n",
    "        # Encrypt content using encryption_function function\n",
    "        encrypted_content = str(encryption_function(content, key)) #cast to string, because some functions doesn't return the string type.\n",
    "\n",
    "        # Save encrypted content to a new file in the output folder\n",
    "        output_file_path = os.path.join(output_folder, file_name)\n",
    "        with open(output_file_path, 'w') as output_file:\n",
    "            output_file.write(encrypted_content)\n",
    "\n",
    "        # print(f\"File '{file_name}' encrypted and saved to '{output_file_path}'.\")\n",
    "\n",
    "'''\n",
    "the function to read each file from input_folder = 'data_transpo_txt\\train\\0.plain', encrypt each file content using encryption_function function, and save to output_folder = 'data_transpo_txt\\train\\3.transpo':\n",
    "For some reason, I cannot use the generic function `encrypt_files`, it will causes the error `TypeError: can't multiply sequence by non-int of type 'str'` causes from the line `    ciphertext = [''] * key` in transposition.py\n",
    "'''\n",
    "def encrypt_files_transpo(input_folder, output_folder):#, encryption_function, key):\n",
    "    # Ensure the output folder exists, if not, create the output_folder:\n",
    "    if not os.path.exists(output_folder):\n",
    "        os.makedirs(output_folder)\n",
    "\n",
    "    # Loop through each file in the input folder\n",
    "    for file_name in os.listdir(input_folder):\n",
    "        file_path = os.path.join(input_folder, file_name)\n",
    "\n",
    "        # Read content from the file\n",
    "        with open(file_path, 'r') as file:\n",
    "            content = file.read()\n",
    "\n",
    "        # Encrypt content using encryption_function function\n",
    "        encrypted_content = transpo.encryptMessage(TRANSPO_KEY, content)#str(encryption_function(content, key)) #cast to string, because some functions doesn't return the string type.\n",
    "\n",
    "        # Save encrypted content to a new file in the output folder\n",
    "        output_file_path = os.path.join(output_folder, file_name)\n",
    "        with open(output_file_path, 'w') as output_file:\n",
    "            output_file.write(encrypted_content)\n",
    "\n",
    "        # print(f\"File '{file_name}' encrypted and saved to '{output_file_path}'.\")\n",
    "\n",
    "\n"
   ]
  },
  {
   "attachments": {},
   "cell_type": "markdown",
   "metadata": {},
   "source": [
    "in 1.railfence:"
   ]
  },
  {
   "cell_type": "code",
   "execution_count": 7,
   "metadata": {},
   "outputs": [],
   "source": [
    "# Call the function to encrypt files\n",
    "input_folder = r'data_transpo_txt\\train\\0.plain'\n",
    "output_folder = r'data_transpo_txt\\train\\1.railfence'\n",
    "encrypt_files(input_folder, output_folder, rf.encryptRailFence, RAIL_FENCE_KEY)"
   ]
  },
  {
   "cell_type": "code",
   "execution_count": 8,
   "metadata": {},
   "outputs": [
    {
     "name": "stdout",
     "output_type": "stream",
     "text": [
      "BMP File '3200.bmp' created at 'data_transpo_bmp\\train\\1.railfence\\3200.bmp'.\n",
      "BMP File '3201.bmp' created at 'data_transpo_bmp\\train\\1.railfence\\3201.bmp'.\n",
      "BMP File '3202.bmp' created at 'data_transpo_bmp\\train\\1.railfence\\3202.bmp'.\n",
      "BMP File '3203.bmp' created at 'data_transpo_bmp\\train\\1.railfence\\3203.bmp'.\n",
      "BMP File '3204.bmp' created at 'data_transpo_bmp\\train\\1.railfence\\3204.bmp'.\n",
      "BMP File '3205.bmp' created at 'data_transpo_bmp\\train\\1.railfence\\3205.bmp'.\n",
      "BMP File '3206.bmp' created at 'data_transpo_bmp\\train\\1.railfence\\3206.bmp'.\n",
      "BMP File '3207.bmp' created at 'data_transpo_bmp\\train\\1.railfence\\3207.bmp'.\n",
      "BMP File '3208.bmp' created at 'data_transpo_bmp\\train\\1.railfence\\3208.bmp'.\n",
      "BMP File '3209.bmp' created at 'data_transpo_bmp\\train\\1.railfence\\3209.bmp'.\n",
      "BMP File '3210.bmp' created at 'data_transpo_bmp\\train\\1.railfence\\3210.bmp'.\n",
      "BMP File '3211.bmp' created at 'data_transpo_bmp\\train\\1.railfence\\3211.bmp'.\n",
      "BMP File '3212.bmp' created at 'data_transpo_bmp\\train\\1.railfence\\3212.bmp'.\n",
      "BMP File '3213.bmp' created at 'data_transpo_bmp\\train\\1.railfence\\3213.bmp'.\n",
      "BMP File '3214.bmp' created at 'data_transpo_bmp\\train\\1.railfence\\3214.bmp'.\n",
      "BMP File '3215.bmp' created at 'data_transpo_bmp\\train\\1.railfence\\3215.bmp'.\n",
      "BMP File '3216.bmp' created at 'data_transpo_bmp\\train\\1.railfence\\3216.bmp'.\n",
      "BMP File '3217.bmp' created at 'data_transpo_bmp\\train\\1.railfence\\3217.bmp'.\n",
      "BMP File '3218.bmp' created at 'data_transpo_bmp\\train\\1.railfence\\3218.bmp'.\n",
      "BMP File '3219.bmp' created at 'data_transpo_bmp\\train\\1.railfence\\3219.bmp'.\n",
      "BMP File '3220.bmp' created at 'data_transpo_bmp\\train\\1.railfence\\3220.bmp'.\n",
      "BMP File '3221.bmp' created at 'data_transpo_bmp\\train\\1.railfence\\3221.bmp'.\n",
      "BMP File '3222.bmp' created at 'data_transpo_bmp\\train\\1.railfence\\3222.bmp'.\n",
      "BMP File '3223.bmp' created at 'data_transpo_bmp\\train\\1.railfence\\3223.bmp'.\n"
     ]
    }
   ],
   "source": [
    "# Call the function to create and convert BMP files from railfence encrypted texts\n",
    "enigma_encrypted_folder = r'data_transpo_txt\\train\\1.railfence'\n",
    "bmp_output_folder = r'data_transpo_bmp\\train\\1.railfence'\n",
    "write_bmpfiles_to_folder(enigma_encrypted_folder, bmp_output_folder)"
   ]
  },
  {
   "attachments": {},
   "cell_type": "markdown",
   "metadata": {},
   "source": [
    "in 2.columnar:"
   ]
  },
  {
   "cell_type": "code",
   "execution_count": 9,
   "metadata": {},
   "outputs": [],
   "source": [
    "# Call the function to encrypt files\n",
    "input_folder = r'data_transpo_txt\\train\\0.plain'\n",
    "output_folder = r'data_transpo_txt\\train\\2.columnar'\n",
    "encrypt_files(input_folder, output_folder, clnar.row_encrypt, COLUMNAR_KEY)"
   ]
  },
  {
   "cell_type": "code",
   "execution_count": 10,
   "metadata": {},
   "outputs": [
    {
     "name": "stdout",
     "output_type": "stream",
     "text": [
      "BMP File '3200.bmp' created at 'data_transpo_bmp\\train\\2.columnar\\3200.bmp'.\n",
      "BMP File '3201.bmp' created at 'data_transpo_bmp\\train\\2.columnar\\3201.bmp'.\n",
      "BMP File '3202.bmp' created at 'data_transpo_bmp\\train\\2.columnar\\3202.bmp'.\n",
      "BMP File '3203.bmp' created at 'data_transpo_bmp\\train\\2.columnar\\3203.bmp'.\n",
      "BMP File '3204.bmp' created at 'data_transpo_bmp\\train\\2.columnar\\3204.bmp'.\n",
      "BMP File '3205.bmp' created at 'data_transpo_bmp\\train\\2.columnar\\3205.bmp'.\n",
      "BMP File '3206.bmp' created at 'data_transpo_bmp\\train\\2.columnar\\3206.bmp'.\n",
      "BMP File '3207.bmp' created at 'data_transpo_bmp\\train\\2.columnar\\3207.bmp'.\n",
      "BMP File '3208.bmp' created at 'data_transpo_bmp\\train\\2.columnar\\3208.bmp'.\n",
      "BMP File '3209.bmp' created at 'data_transpo_bmp\\train\\2.columnar\\3209.bmp'.\n",
      "BMP File '3210.bmp' created at 'data_transpo_bmp\\train\\2.columnar\\3210.bmp'.\n",
      "BMP File '3211.bmp' created at 'data_transpo_bmp\\train\\2.columnar\\3211.bmp'.\n",
      "BMP File '3212.bmp' created at 'data_transpo_bmp\\train\\2.columnar\\3212.bmp'.\n",
      "BMP File '3213.bmp' created at 'data_transpo_bmp\\train\\2.columnar\\3213.bmp'.\n",
      "BMP File '3214.bmp' created at 'data_transpo_bmp\\train\\2.columnar\\3214.bmp'.\n",
      "BMP File '3215.bmp' created at 'data_transpo_bmp\\train\\2.columnar\\3215.bmp'.\n",
      "BMP File '3216.bmp' created at 'data_transpo_bmp\\train\\2.columnar\\3216.bmp'.\n",
      "BMP File '3217.bmp' created at 'data_transpo_bmp\\train\\2.columnar\\3217.bmp'.\n",
      "BMP File '3218.bmp' created at 'data_transpo_bmp\\train\\2.columnar\\3218.bmp'.\n",
      "BMP File '3219.bmp' created at 'data_transpo_bmp\\train\\2.columnar\\3219.bmp'.\n",
      "BMP File '3220.bmp' created at 'data_transpo_bmp\\train\\2.columnar\\3220.bmp'.\n",
      "BMP File '3221.bmp' created at 'data_transpo_bmp\\train\\2.columnar\\3221.bmp'.\n",
      "BMP File '3222.bmp' created at 'data_transpo_bmp\\train\\2.columnar\\3222.bmp'.\n",
      "BMP File '3223.bmp' created at 'data_transpo_bmp\\train\\2.columnar\\3223.bmp'.\n"
     ]
    }
   ],
   "source": [
    "# Call the function to create and convert BMP files from columnar encrypted texts\n",
    "enigmaM4_encrypted_folder = r'data_transpo_txt\\train\\2.columnar'\n",
    "bmp_output_folder = r'data_transpo_bmp\\train\\2.columnar'\n",
    "write_bmpfiles_to_folder(enigmaM4_encrypted_folder, bmp_output_folder)"
   ]
  },
  {
   "attachments": {},
   "cell_type": "markdown",
   "metadata": {},
   "source": [
    "in 3.transpo:"
   ]
  },
  {
   "cell_type": "code",
   "execution_count": 18,
   "metadata": {},
   "outputs": [],
   "source": [
    "# Call the function to encrypt files\n",
    "input_folder = r'data_transpo_txt\\train\\0.plain'\n",
    "output_folder = r'data_transpo_txt\\train\\3.transpo'\n",
    "encrypt_files_transpo(input_folder, output_folder)#, transpo.encryptMessage, TRANSPO_KEY)"
   ]
  },
  {
   "cell_type": "code",
   "execution_count": 19,
   "metadata": {},
   "outputs": [
    {
     "name": "stdout",
     "output_type": "stream",
     "text": [
      "BMP File '3200.bmp' created at 'data_transpo_bmp\\train\\3.transpo\\3200.bmp'.\n",
      "BMP File '3201.bmp' created at 'data_transpo_bmp\\train\\3.transpo\\3201.bmp'.\n",
      "BMP File '3202.bmp' created at 'data_transpo_bmp\\train\\3.transpo\\3202.bmp'.\n",
      "BMP File '3203.bmp' created at 'data_transpo_bmp\\train\\3.transpo\\3203.bmp'.\n",
      "BMP File '3204.bmp' created at 'data_transpo_bmp\\train\\3.transpo\\3204.bmp'.\n",
      "BMP File '3205.bmp' created at 'data_transpo_bmp\\train\\3.transpo\\3205.bmp'.\n",
      "BMP File '3206.bmp' created at 'data_transpo_bmp\\train\\3.transpo\\3206.bmp'.\n",
      "BMP File '3207.bmp' created at 'data_transpo_bmp\\train\\3.transpo\\3207.bmp'.\n",
      "BMP File '3208.bmp' created at 'data_transpo_bmp\\train\\3.transpo\\3208.bmp'.\n",
      "BMP File '3209.bmp' created at 'data_transpo_bmp\\train\\3.transpo\\3209.bmp'.\n",
      "BMP File '3210.bmp' created at 'data_transpo_bmp\\train\\3.transpo\\3210.bmp'.\n",
      "BMP File '3211.bmp' created at 'data_transpo_bmp\\train\\3.transpo\\3211.bmp'.\n",
      "BMP File '3212.bmp' created at 'data_transpo_bmp\\train\\3.transpo\\3212.bmp'.\n",
      "BMP File '3213.bmp' created at 'data_transpo_bmp\\train\\3.transpo\\3213.bmp'.\n",
      "BMP File '3214.bmp' created at 'data_transpo_bmp\\train\\3.transpo\\3214.bmp'.\n",
      "BMP File '3215.bmp' created at 'data_transpo_bmp\\train\\3.transpo\\3215.bmp'.\n",
      "BMP File '3216.bmp' created at 'data_transpo_bmp\\train\\3.transpo\\3216.bmp'.\n",
      "BMP File '3217.bmp' created at 'data_transpo_bmp\\train\\3.transpo\\3217.bmp'.\n",
      "BMP File '3218.bmp' created at 'data_transpo_bmp\\train\\3.transpo\\3218.bmp'.\n",
      "BMP File '3219.bmp' created at 'data_transpo_bmp\\train\\3.transpo\\3219.bmp'.\n",
      "BMP File '3220.bmp' created at 'data_transpo_bmp\\train\\3.transpo\\3220.bmp'.\n",
      "BMP File '3221.bmp' created at 'data_transpo_bmp\\train\\3.transpo\\3221.bmp'.\n",
      "BMP File '3222.bmp' created at 'data_transpo_bmp\\train\\3.transpo\\3222.bmp'.\n",
      "BMP File '3223.bmp' created at 'data_transpo_bmp\\train\\3.transpo\\3223.bmp'.\n"
     ]
    }
   ],
   "source": [
    "# Call the function to create and convert BMP files from Typex encrypted texts\n",
    "typex_encrypted_folder = r'data_transpo_txt\\train\\3.transpo'\n",
    "bmp_output_folder = r'data_transpo_bmp\\train\\3.transpo'\n",
    "write_bmpfiles_to_folder(typex_encrypted_folder, bmp_output_folder)"
   ]
  },
  {
   "attachments": {},
   "cell_type": "markdown",
   "metadata": {},
   "source": [
    "Ciphertexts generation related work done."
   ]
  }
 ],
 "metadata": {
  "kernelspec": {
   "display_name": "Python 3",
   "language": "python",
   "name": "python3"
  },
  "language_info": {
   "codemirror_mode": {
    "name": "ipython",
    "version": 3
   },
   "file_extension": ".py",
   "mimetype": "text/x-python",
   "name": "python",
   "nbconvert_exporter": "python",
   "pygments_lexer": "ipython3",
   "version": "3.10.11"
  },
  "orig_nbformat": 4
 },
 "nbformat": 4,
 "nbformat_minor": 2
}
